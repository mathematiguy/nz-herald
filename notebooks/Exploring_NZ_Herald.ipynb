{
 "cells": [
  {
   "cell_type": "markdown",
   "id": "821ca82a-3328-481d-9080-e44b849b4979",
   "metadata": {},
   "source": [
    "# Exploring the NZ Herald data\n",
    "\n",
    "This notebook is for exploring the NZ Herald archive using modern NLP tools."
   ]
  },
  {
   "cell_type": "code",
   "execution_count": 26,
   "id": "f304e31e-429e-4a6c-8e88-42c64d794b50",
   "metadata": {},
   "outputs": [],
   "source": [
    "import numpy as np\n",
    "import pandas as pd\n",
    "\n",
    "import torch\n",
    "from transformers import GPT2Tokenizer, GPT2Model"
   ]
  },
  {
   "cell_type": "code",
   "execution_count": 2,
   "id": "5c0e8f84-f455-441c-91dd-9422b0399998",
   "metadata": {},
   "outputs": [
    {
     "name": "stdout",
     "output_type": "stream",
     "text": [
      "CPU times: user 5.77 s, sys: 714 ms, total: 6.48 s\n",
      "Wall time: 6.48 s\n"
     ]
    }
   ],
   "source": [
    "%%time\n",
    "herald_data = pd.read_csv('../data/unzipped/nzherald_harvest.csv', low_memory = False)"
   ]
  },
  {
   "cell_type": "code",
   "execution_count": 3,
   "id": "33ea060c-f939-4b43-8349-64e01d7c805a",
   "metadata": {},
   "outputs": [
    {
     "data": {
      "text/plain": [
       "'509736 articles found'"
      ]
     },
     "execution_count": 3,
     "metadata": {},
     "output_type": "execute_result"
    }
   ],
   "source": [
    "'{} articles found'.format(len(herald_data))"
   ]
  },
  {
   "cell_type": "code",
   "execution_count": 4,
   "id": "bceab2f5-631a-4525-b787-bf3c0d86e5a7",
   "metadata": {},
   "outputs": [
    {
     "data": {
      "text/plain": [
       "'177036 missing articles'"
      ]
     },
     "execution_count": 4,
     "metadata": {},
     "output_type": "execute_result"
    }
   ],
   "source": [
    "'{} missing articles'.format(herald_data.paragraphs.isna().sum())"
   ]
  },
  {
   "cell_type": "code",
   "execution_count": 5,
   "id": "41fe1289-ccf8-41bc-b30e-958db7be2cf5",
   "metadata": {},
   "outputs": [],
   "source": [
    "# Drop missing articles\n",
    "herald_data = herald_data[~herald_data.paragraphs.isna()]"
   ]
  },
  {
   "cell_type": "code",
   "execution_count": 6,
   "id": "7542cd3b-c160-42b6-8bd6-040b0104134b",
   "metadata": {},
   "outputs": [
    {
     "data": {
      "text/plain": [
       "'332700 articles remaining'"
      ]
     },
     "execution_count": 6,
     "metadata": {},
     "output_type": "execute_result"
    }
   ],
   "source": [
    "'{} articles remaining'.format(len(herald_data))"
   ]
  },
  {
   "cell_type": "code",
   "execution_count": 7,
   "id": "1d296349-5ff9-44bd-a98d-eb16378bd508",
   "metadata": {},
   "outputs": [
    {
     "name": "stdout",
     "output_type": "stream",
     "text": [
      "CPU times: user 35.6 s, sys: 0 ns, total: 35.6 s\n",
      "Wall time: 35.6 s\n"
     ]
    }
   ],
   "source": [
    "%%time\n",
    "herald_data['date'] = pd.to_datetime(herald_data.date)"
   ]
  },
  {
   "cell_type": "code",
   "execution_count": 8,
   "id": "43372522-e885-4f01-87b1-7d7ce29c4f1e",
   "metadata": {},
   "outputs": [
    {
     "data": {
      "text/plain": [
       "<AxesSubplot:xlabel='date,date'>"
      ]
     },
     "execution_count": 8,
     "metadata": {},
     "output_type": "execute_result"
    },
    {
     "data": {
      "image/png": "[encoded data removed]",
      "text/plain": [
       "<Figure size 432x288 with 1 Axes>"
      ]
     },
     "metadata": {
      "needs_background": "light"
     },
     "output_type": "display_data"
    }
   ],
   "source": [
    "herald_data['paragraphs'].groupby([herald_data.date.dt.year, herald_data.date.dt.month]).count().plot(kind = 'line')"
   ]
  },
  {
   "cell_type": "code",
   "execution_count": 38,
   "id": "6b167d78-b835-4389-b776-171a0bee7fd4",
   "metadata": {},
   "outputs": [
    {
     "data": {
      "text/html": [
       "<div>\n",
       "<style scoped>\n",
       "    .dataframe tbody tr th:only-of-type {\n",
       "        vertical-align: middle;\n",
       "    }\n",
       "\n",
       "    .dataframe tbody tr th {\n",
       "        vertical-align: top;\n",
       "    }\n",
       "\n",
       "    .dataframe thead th {\n",
       "        text-align: right;\n",
       "    }\n",
       "</style>\n",
       "<table border=\"1\" class=\"dataframe\">\n",
       "  <thead>\n",
       "    <tr style=\"text-align: right;\">\n",
       "      <th></th>\n",
       "      <th>url</th>\n",
       "      <th>byline</th>\n",
       "      <th>date</th>\n",
       "      <th>headline</th>\n",
       "      <th>sponsor</th>\n",
       "      <th>subheader</th>\n",
       "      <th>syndicator_name</th>\n",
       "      <th>paragraphs</th>\n",
       "    </tr>\n",
       "  </thead>\n",
       "  <tbody>\n",
       "    <tr>\n",
       "      <th>164346</th>\n",
       "      <td>https://www.nzherald.co.nz/nz/news/article.cfm...</td>\n",
       "      <td>NaN</td>\n",
       "      <td>NaT</td>\n",
       "      <td>NaN</td>\n",
       "      <td>NaN</td>\n",
       "      <td>NaN</td>\n",
       "      <td>NZ Herald</td>\n",
       "      <td>New Zealand's most prominent politicians agree...</td>\n",
       "    </tr>\n",
       "    <tr>\n",
       "      <th>174724</th>\n",
       "      <td>https://www.nzherald.co.nz/nz/news/article.cfm...</td>\n",
       "      <td>By: Simon Collins   Education reporter, NZ Her...</td>\n",
       "      <td>NaT</td>\n",
       "      <td>NaN</td>\n",
       "      <td>NaN</td>\n",
       "      <td>NaN</td>\n",
       "      <td>NaN</td>\n",
       "      <td>School reports as we know them are on the way ...</td>\n",
       "    </tr>\n",
       "    <tr>\n",
       "      <th>176590</th>\n",
       "      <td>https://www.nzherald.co.nz/nz/news/article.cfm...</td>\n",
       "      <td>By: Scott Yeoman    scott.yeoman@bayofplentyti...</td>\n",
       "      <td>NaT</td>\n",
       "      <td>NaN</td>\n",
       "      <td>NaN</td>\n",
       "      <td>NaN</td>\n",
       "      <td>NaN</td>\n",
       "      <td>The Government stepped in with a $350,000 pled...</td>\n",
       "    </tr>\n",
       "    <tr>\n",
       "      <th>181846</th>\n",
       "      <td>https://www.nzherald.co.nz/lifestyle/news/arti...</td>\n",
       "      <td>By: Matt Young and Vanessa Brown</td>\n",
       "      <td>NaT</td>\n",
       "      <td>NaN</td>\n",
       "      <td>NaN</td>\n",
       "      <td>NaN</td>\n",
       "      <td>news.com.au</td>\n",
       "      <td>An Australian woman who lives with K-cup breas...</td>\n",
       "    </tr>\n",
       "    <tr>\n",
       "      <th>183123</th>\n",
       "      <td>https://www.nzherald.co.nz/nz-herald-local-foc...</td>\n",
       "      <td>By: Alecia Rousseau</td>\n",
       "      <td>NaT</td>\n",
       "      <td>NaN</td>\n",
       "      <td>NaN</td>\n",
       "      <td>NaN</td>\n",
       "      <td>Manawatu Guardian</td>\n",
       "      <td>While driving his family to Whanganui one even...</td>\n",
       "    </tr>\n",
       "    <tr>\n",
       "      <th>186602</th>\n",
       "      <td>https://www.nzherald.co.nz/small-business-sme/...</td>\n",
       "      <td>By: Hunter Calder   Videojournalist Waikato, N...</td>\n",
       "      <td>NaT</td>\n",
       "      <td>NaN</td>\n",
       "      <td>NaN</td>\n",
       "      <td>NaN</td>\n",
       "      <td>NaN</td>\n",
       "      <td>The Isaacs family have lived on Te Arahori St ...</td>\n",
       "    </tr>\n",
       "    <tr>\n",
       "      <th>190733</th>\n",
       "      <td>https://www.nzherald.co.nz/world/news/article....</td>\n",
       "      <td>By: Chris Spargo for Daily Mail</td>\n",
       "      <td>NaT</td>\n",
       "      <td>NaN</td>\n",
       "      <td>NaN</td>\n",
       "      <td>NaN</td>\n",
       "      <td>Daily Mail</td>\n",
       "      <td>Charles Manson has left his entire estate, and...</td>\n",
       "    </tr>\n",
       "    <tr>\n",
       "      <th>201084</th>\n",
       "      <td>https://www.nzherald.co.nz/entertainment/news/...</td>\n",
       "      <td>NaN</td>\n",
       "      <td>NaT</td>\n",
       "      <td>NaN</td>\n",
       "      <td>NaN</td>\n",
       "      <td>NaN</td>\n",
       "      <td>NZ Herald</td>\n",
       "      <td>The APRA's Silver Scroll award nominee list is...</td>\n",
       "    </tr>\n",
       "    <tr>\n",
       "      <th>217663</th>\n",
       "      <td>https://www.nzherald.co.nz/nz/news/article.cfm...</td>\n",
       "      <td>By: Nicholas Jones   Political reporter, NZ He...</td>\n",
       "      <td>NaT</td>\n",
       "      <td>NaN</td>\n",
       "      <td>NaN</td>\n",
       "      <td>NaN</td>\n",
       "      <td>NaN</td>\n",
       "      <td>Gareth Morgan says his reaction to Labour's su...</td>\n",
       "    </tr>\n",
       "  </tbody>\n",
       "</table>\n",
       "</div>"
      ],
      "text/plain": [
       "                                                      url  \\\n",
       "164346  https://www.nzherald.co.nz/nz/news/article.cfm...   \n",
       "174724  https://www.nzherald.co.nz/nz/news/article.cfm...   \n",
       "176590  https://www.nzherald.co.nz/nz/news/article.cfm...   \n",
       "181846  https://www.nzherald.co.nz/lifestyle/news/arti...   \n",
       "183123  https://www.nzherald.co.nz/nz-herald-local-foc...   \n",
       "186602  https://www.nzherald.co.nz/small-business-sme/...   \n",
       "190733  https://www.nzherald.co.nz/world/news/article....   \n",
       "201084  https://www.nzherald.co.nz/entertainment/news/...   \n",
       "217663  https://www.nzherald.co.nz/nz/news/article.cfm...   \n",
       "\n",
       "                                                   byline date headline  \\\n",
       "164346                                                NaN  NaT      NaN   \n",
       "174724  By: Simon Collins   Education reporter, NZ Her...  NaT      NaN   \n",
       "176590  By: Scott Yeoman    scott.yeoman@bayofplentyti...  NaT      NaN   \n",
       "181846                   By: Matt Young and Vanessa Brown  NaT      NaN   \n",
       "183123                                By: Alecia Rousseau  NaT      NaN   \n",
       "186602  By: Hunter Calder   Videojournalist Waikato, N...  NaT      NaN   \n",
       "190733                    By: Chris Spargo for Daily Mail  NaT      NaN   \n",
       "201084                                                NaN  NaT      NaN   \n",
       "217663  By: Nicholas Jones   Political reporter, NZ He...  NaT      NaN   \n",
       "\n",
       "        sponsor  subheader    syndicator_name  \\\n",
       "164346      NaN        NaN          NZ Herald   \n",
       "174724      NaN        NaN                NaN   \n",
       "176590      NaN        NaN                NaN   \n",
       "181846      NaN        NaN        news.com.au   \n",
       "183123      NaN        NaN  Manawatu Guardian   \n",
       "186602      NaN        NaN                NaN   \n",
       "190733      NaN        NaN         Daily Mail   \n",
       "201084      NaN        NaN          NZ Herald   \n",
       "217663      NaN        NaN                NaN   \n",
       "\n",
       "                                               paragraphs  \n",
       "164346  New Zealand's most prominent politicians agree...  \n",
       "174724  School reports as we know them are on the way ...  \n",
       "176590  The Government stepped in with a $350,000 pled...  \n",
       "181846  An Australian woman who lives with K-cup breas...  \n",
       "183123  While driving his family to Whanganui one even...  \n",
       "186602  The Isaacs family have lived on Te Arahori St ...  \n",
       "190733  Charles Manson has left his entire estate, and...  \n",
       "201084  The APRA's Silver Scroll award nominee list is...  \n",
       "217663  Gareth Morgan says his reaction to Labour's su...  "
      ]
     },
     "execution_count": 38,
     "metadata": {},
     "output_type": "execute_result"
    }
   ],
   "source": [
    "herald_data[herald_data.headline.isna()]"
   ]
  },
  {
   "cell_type": "code",
   "execution_count": 27,
   "id": "bda2bb82-c701-413d-baa5-67b68e213090",
   "metadata": {},
   "outputs": [
    {
     "data": {
      "application/vnd.jupyter.widget-view+json": {
       "model_id": "52728f85d45347e099a4dcbe690de9a3",
       "version_major": 2,
       "version_minor": 0
      },
      "text/plain": [
       "Downloading:   0%|          | 0.00/665 [00:00<?, ?B/s]"
      ]
     },
     "metadata": {},
     "output_type": "display_data"
    },
    {
     "data": {
      "application/vnd.jupyter.widget-view+json": {
       "model_id": "26c73debd5b045509016b12540ff2349",
       "version_major": 2,
       "version_minor": 0
      },
      "text/plain": [
       "Downloading:   0%|          | 0.00/548M [00:00<?, ?B/s]"
      ]
     },
     "metadata": {},
     "output_type": "display_data"
    },
    {
     "name": "stderr",
     "output_type": "stream",
     "text": [
      "Some weights of GPT2Model were not initialized from the model checkpoint at gpt2 and are newly initialized: ['h.0.attn.masked_bias', 'h.1.attn.masked_bias', 'h.2.attn.masked_bias', 'h.3.attn.masked_bias', 'h.4.attn.masked_bias', 'h.5.attn.masked_bias', 'h.6.attn.masked_bias', 'h.7.attn.masked_bias', 'h.8.attn.masked_bias', 'h.9.attn.masked_bias', 'h.10.attn.masked_bias', 'h.11.attn.masked_bias']\n",
      "You should probably TRAIN this model on a down-stream task to be able to use it for predictions and inference.\n"
     ]
    }
   ],
   "source": [
    "tokenizer = GPT2Tokenizer.from_pretrained('gpt2')\n",
    "model = GPT2Model.from_pretrained('gpt2')"
   ]
  },
  {
   "cell_type": "code",
   "execution_count": 28,
   "id": "599a86c0-186a-419d-ad65-91d95e8f0b02",
   "metadata": {},
   "outputs": [],
   "source": [
    "input_ids = torch.tensor(tokenizer.encode(\"Hello, my dog is cute\")).unsqueeze(0)  # Batch size 1\n",
    "outputs = model(input_ids)\n",
    "last_hidden_states = outputs[0]  # The last hidden-state is the first element of the output tuple"
   ]
  },
  {
   "cell_type": "code",
   "execution_count": 34,
   "id": "716a16a4-21b9-4150-ba8d-2f1971fae645",
   "metadata": {},
   "outputs": [
    {
     "data": {
      "text/plain": [
       "torch.Size([4608])"
      ]
     },
     "execution_count": 34,
     "metadata": {},
     "output_type": "execute_result"
    }
   ],
   "source": [
    "outputs[0].flatten().shape"
   ]
  }
 ],
 "metadata": {
  "kernelspec": {
   "display_name": "Python 3",
   "language": "python",
   "name": "python3"
  },
  "language_info": {
   "codemirror_mode": {
    "name": "ipython",
    "version": 3
   },
   "file_extension": ".py",
   "mimetype": "text/x-python",
   "name": "python",
   "nbconvert_exporter": "python",
   "pygments_lexer": "ipython3",
   "version": "3.6.9"
  }
 },
 "nbformat": 4,
 "nbformat_minor": 5
}
